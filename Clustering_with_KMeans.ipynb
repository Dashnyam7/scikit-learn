{
  "nbformat": 4,
  "nbformat_minor": 0,
  "metadata": {
    "colab": {
      "provenance": [],
      "authorship_tag": "ABX9TyNmdnxpu2cS0/E5RRnMJJBC",
      "include_colab_link": true
    },
    "kernelspec": {
      "name": "python3",
      "display_name": "Python 3"
    },
    "language_info": {
      "name": "python"
    }
  },
  "cells": [
    {
      "cell_type": "markdown",
      "metadata": {
        "id": "view-in-github",
        "colab_type": "text"
      },
      "source": [
        "<a href=\"https://colab.research.google.com/github/Dashnyam7/scikit-learn/blob/main/Clustering_with_KMeans.ipynb\" target=\"_parent\"><img src=\"https://colab.research.google.com/assets/colab-badge.svg\" alt=\"Open In Colab\"/></a>"
      ]
    },
    {
      "cell_type": "markdown",
      "source": [
        "# Clustering with K-Means"
      ],
      "metadata": {
        "id": "OOchTTRVdPwi"
      }
    },
    {
      "cell_type": "markdown",
      "source": [
        "## What is clustering?"
      ],
      "metadata": {
        "id": "2nAzaYjudUqr"
      }
    },
    {
      "cell_type": "markdown",
      "source": [
        "Clustering is a representative analysis method of unsupervised learning"
      ],
      "metadata": {
        "id": "AyOQDU89dXXW"
      }
    },
    {
      "cell_type": "markdown",
      "source": [
        "In the case of unsupervised learning, there is no correct answer like there is for the objective variable in supervised learning, so the validity of the results must ultimately be judged by the engineer."
      ],
      "metadata": {
        "id": "I5VfIvlcdbQK"
      }
    },
    {
      "cell_type": "markdown",
      "source": [
        "Typical methods of clustering are k-means and hierarchical clustering"
      ],
      "metadata": {
        "id": "VF-IujYddl90"
      }
    },
    {
      "cell_type": "markdown",
      "source": [
        "## Data set prepretion"
      ],
      "metadata": {
        "id": "ec-izvmZdpGl"
      }
    },
    {
      "cell_type": "markdown",
      "source": [
        " sample data to train the k-means model and divide the data into three grooms"
      ],
      "metadata": {
        "id": "sfSL5BUWdtMk"
      }
    },
    {
      "cell_type": "markdown",
      "source": [
        "(sepal width) and (petal width) features"
      ],
      "metadata": {
        "id": "vQwmetY3dzA-"
      }
    },
    {
      "cell_type": "code",
      "execution_count": 1,
      "metadata": {
        "id": "aPg68_mrUhDD"
      },
      "outputs": [],
      "source": [
        "from sklearn.datasets import load_iris\n",
        "iris = load_iris()\n",
        "data = iris.data[:, [1,3]]"
      ]
    },
    {
      "cell_type": "code",
      "source": [
        "import matplotlib.pyplot as plt\n",
        "fig, ax = plt.subplots()\n",
        "ax.scatter(data[:, 0], data[:, 1])\n",
        "ax.set_xlabel('sepal width (cm)')\n",
        "ax.set_ylabel('petal width (cm)')\n",
        "plt.show()"
      ],
      "metadata": {
        "colab": {
          "base_uri": "https://localhost:8080/",
          "height": 279
        },
        "id": "P0TkiZAIeHcs",
        "outputId": "33281a3e-49dc-44a3-c3ef-e9c1a4c05f2c"
      },
      "execution_count": 4,
      "outputs": [
        {
          "output_type": "display_data",
          "data": {
            "text/plain": [
              "<Figure size 432x288 with 1 Axes>"
            ],
            "image/png": "[encoded data removed]"
          },
          "metadata": {
            "needs_background": "light"
          }
        }
      ]
    },
    {
      "cell_type": "markdown",
      "source": [
        "## Learning"
      ],
      "metadata": {
        "id": "_znJIddneezI"
      }
    },
    {
      "cell_type": "markdown",
      "source": [
        "import the classes from\n",
        "the scikit-learn clustermodule .KMeans"
      ],
      "metadata": {
        "id": "ECFIgDE5ehbx"
      }
    },
    {
      "cell_type": "code",
      "source": [
        "from sklearn.cluster import KMeans"
      ],
      "metadata": {
        "id": "QX-u40NQelS0"
      },
      "execution_count": 5,
      "outputs": []
    },
    {
      "cell_type": "code",
      "source": [
        "km = KMeans(n_clusters=3, init='random', n_init=10, random_state=123)"
      ],
      "metadata": {
        "id": "nKxIYEDNeqGs"
      },
      "execution_count": 6,
      "outputs": []
    },
    {
      "cell_type": "code",
      "source": [
        "data_km = km.fit_predict(data)"
      ],
      "metadata": {
        "id": "-WWdEy0ve2vs"
      },
      "execution_count": 7,
      "outputs": []
    },
    {
      "cell_type": "code",
      "source": [
        "data_km"
      ],
      "metadata": {
        "colab": {
          "base_uri": "https://localhost:8080/"
        },
        "id": "4rFgHeOyfXlK",
        "outputId": "8556d067-c034-45d2-e003-dc746b7983a1"
      },
      "execution_count": 8,
      "outputs": [
        {
          "output_type": "execute_result",
          "data": {
            "text/plain": [
              "array([0, 0, 0, 0, 0, 0, 0, 0, 0, 0, 0, 0, 0, 0, 0, 0, 0, 0, 0, 0, 0, 0,\n",
              "       0, 0, 0, 0, 0, 0, 0, 0, 0, 0, 0, 0, 0, 0, 0, 0, 0, 0, 0, 2, 0, 0,\n",
              "       0, 0, 0, 0, 0, 0, 2, 2, 2, 2, 2, 2, 1, 2, 2, 2, 2, 2, 2, 2, 2, 2,\n",
              "       2, 2, 2, 2, 1, 2, 2, 2, 2, 2, 2, 1, 2, 2, 2, 2, 2, 2, 2, 1, 2, 2,\n",
              "       2, 2, 2, 2, 2, 2, 2, 2, 2, 2, 2, 2, 1, 1, 1, 1, 1, 1, 2, 1, 2, 1,\n",
              "       1, 1, 1, 1, 1, 1, 1, 1, 1, 2, 1, 1, 1, 1, 1, 1, 1, 1, 1, 2, 1, 1,\n",
              "       1, 2, 2, 1, 1, 1, 1, 1, 1, 1, 1, 1, 1, 1, 1, 1, 1, 1], dtype=int32)"
            ]
          },
          "metadata": {},
          "execution_count": 8
        }
      ]
    },
    {
      "cell_type": "code",
      "source": [
        "from sklearn.cluster import KMeans\n",
        "km = KMeans(n_clusters=3, init='random', n_init=10, random_state=123)\n",
        "data_km = km.fit_predict(data)"
      ],
      "metadata": {
        "id": "HLOyAD8CfbMy"
      },
      "execution_count": 9,
      "outputs": []
    },
    {
      "cell_type": "markdown",
      "source": [
        "## Visualization of learning result"
      ],
      "metadata": {
        "id": "1w1PPQNgfd3l"
      }
    },
    {
      "cell_type": "markdown",
      "source": [
        "Let's first consider how to get sorted 0into groups . Data classified as can be extracted by using the comparison operator as follows. As a test, let's extract the classified .sepal width (cm)petal width (cm)\n",
        "0==\n",
        "0sepal width (cm)"
      ],
      "metadata": {
        "id": "QY1SUbMhfnwm"
      }
    },
    {
      "cell_type": "code",
      "source": [
        "data[data_km == 0, 0]"
      ],
      "metadata": {
        "colab": {
          "base_uri": "https://localhost:8080/"
        },
        "id": "RTSxf6S4fh1I",
        "outputId": "1acd948a-faf3-4afc-de51-73169fb45223"
      },
      "execution_count": 10,
      "outputs": [
        {
          "output_type": "execute_result",
          "data": {
            "text/plain": [
              "array([3.5, 3. , 3.2, 3.1, 3.6, 3.9, 3.4, 3.4, 2.9, 3.1, 3.7, 3.4, 3. ,\n",
              "       3. , 4. , 4.4, 3.9, 3.5, 3.8, 3.8, 3.4, 3.7, 3.6, 3.3, 3.4, 3. ,\n",
              "       3.4, 3.5, 3.4, 3.2, 3.1, 3.4, 4.1, 4.2, 3.1, 3.2, 3.5, 3.6, 3. ,\n",
              "       3.4, 3.5, 3.2, 3.5, 3.8, 3. , 3.8, 3.2, 3.7, 3.3])"
            ]
          },
          "metadata": {},
          "execution_count": 10
        }
      ]
    },
    {
      "cell_type": "code",
      "source": [
        "data[data_km == 0, 1]"
      ],
      "metadata": {
        "colab": {
          "base_uri": "https://localhost:8080/"
        },
        "id": "ZnVB8ON4fvTb",
        "outputId": "a5383ffb-2203-4574-c8a0-75bdec2509e2"
      },
      "execution_count": 11,
      "outputs": [
        {
          "output_type": "execute_result",
          "data": {
            "text/plain": [
              "array([0.2, 0.2, 0.2, 0.2, 0.2, 0.4, 0.3, 0.2, 0.2, 0.1, 0.2, 0.2, 0.1,\n",
              "       0.1, 0.2, 0.4, 0.4, 0.3, 0.3, 0.3, 0.2, 0.4, 0.2, 0.5, 0.2, 0.2,\n",
              "       0.4, 0.2, 0.2, 0.2, 0.2, 0.4, 0.1, 0.2, 0.2, 0.2, 0.2, 0.1, 0.2,\n",
              "       0.2, 0.3, 0.2, 0.6, 0.4, 0.3, 0.2, 0.2, 0.2, 0.2])"
            ]
          },
          "metadata": {},
          "execution_count": 11
        }
      ]
    },
    {
      "cell_type": "code",
      "source": [
        "import numpy as np\n",
        "fig, ax = plt.subplots()\n",
        "# group 1\n",
        "ax.scatter(data[data_km == 0, 0], data[data_km == 0, 1], s=30, marker='o', label='group 1')\n",
        "# group 2\n",
        "ax.scatter(data[data_km == 1, 0], data[data_km == 1, 1], s=30, marker='v', label='group 2')\n",
        "# group 3\n",
        "ax.scatter(data[data_km == 2, 0], data[data_km == 2, 1], s=30, marker='s', label='group 3')\n",
        "\n",
        "ax.set_xlabel('sepal width (cm)')\n",
        "ax.set_ylabel('petal width (cm)')\n",
        "ax.legend(loc='best')\n",
        "plt.show()"
      ],
      "metadata": {
        "colab": {
          "base_uri": "https://localhost:8080/",
          "height": 279
        },
        "id": "aC8LShZYf8yf",
        "outputId": "b2fa8bcb-4512-41a4-a720-342e33f6377b"
      },
      "execution_count": 12,
      "outputs": [
        {
          "output_type": "display_data",
          "data": {
            "text/plain": [
              "<Figure size 432x288 with 1 Axes>"
            ],
            "image/png": "[encoded data removed]"
          },
          "metadata": {
            "needs_background": "light"
          }
        }
      ]
    },
    {
      "cell_type": "code",
      "source": [
        "import numpy as np\n",
        "fig, ax = plt.subplots()\n",
        "# group 1\n",
        "ax.scatter(data[data_km == 0, 0], data[data_km == 0, 1], s=30, marker='o', label='group 1')\n",
        "ax.plot(np.mean(data[data_km == 0, 0]), np.mean(data[data_km == 0, 1]), marker='x', markersize=10, color='red', markeredgewidth=3)\n",
        "# group 2\n",
        "ax.scatter(data[data_km == 1, 0], data[data_km == 1, 1], s=30, marker='v', label='group 2')\n",
        "ax.plot(np.mean(data[data_km == 1, 0]), np.mean(data[data_km == 1, 1]), marker='x', markersize=10, color='red', markeredgewidth=3)\n",
        "# group 3\n",
        "ax.scatter(data[data_km == 2, 0], data[data_km == 2, 1], s=30, marker='s', label='group 3')\n",
        "ax.plot(np.mean(data[data_km == 2, 0]), np.mean(data[data_km == 2, 1]), marker='x', markersize=10, color='red', markeredgewidth=3)\n",
        "\n",
        "ax.set_xlabel('sepal width (cm)')\n",
        "ax.set_ylabel('petal width (cm)')\n",
        "ax.legend(loc='best')\n",
        "plt.show()"
      ],
      "metadata": {
        "colab": {
          "base_uri": "https://localhost:8080/",
          "height": 279
        },
        "id": "L-zRyEITgExg",
        "outputId": "98e1f9d5-aaf7-4ba7-c185-4419c1d4104b"
      },
      "execution_count": 13,
      "outputs": [
        {
          "output_type": "display_data",
          "data": {
            "text/plain": [
              "<Figure size 432x288 with 1 Axes>"
            ],
            "image/png": "[encoded data removed]"
          },
          "metadata": {
            "needs_background": "light"
          }
        }
      ]
    }
  ]
}