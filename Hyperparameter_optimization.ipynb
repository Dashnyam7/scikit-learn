{
  "nbformat": 4,
  "nbformat_minor": 0,
  "metadata": {
    "colab": {
      "provenance": [],
      "toc_visible": true,
      "authorship_tag": "ABX9TyPrKn5KwtJ2BhjvFS77iI4h",
      "include_colab_link": true
    },
    "kernelspec": {
      "name": "python3",
      "display_name": "Python 3"
    },
    "language_info": {
      "name": "python"
    }
  },
  "cells": [
    {
      "cell_type": "markdown",
      "metadata": {
        "id": "view-in-github",
        "colab_type": "text"
      },
      "source": [
        "<a href=\"https://colab.research.google.com/github/Dashnyam7/scikit-learn/blob/main/Hyperparameter_optimization.ipynb\" target=\"_parent\"><img src=\"https://colab.research.google.com/assets/colab-badge.svg\" alt=\"Open In Colab\"/></a>"
      ]
    },
    {
      "cell_type": "markdown",
      "source": [
        "# Hyperparameter optimization"
      ],
      "metadata": {
        "id": "ZpqneBDXnv2T"
      }
    },
    {
      "cell_type": "markdown",
      "source": [
        "## What are hyperparameters?"
      ],
      "metadata": {
        "id": "ymE_1nDhn4pL"
      }
    },
    {
      "cell_type": "markdown",
      "source": [
        "Hyperparameters are values ​​that engineers must specify, such as the depth of trees in a decision tree model or the number of decision trees in a random forest"
      ],
      "metadata": {
        "id": "BxeaeJYPn9hT"
      }
    },
    {
      "cell_type": "markdown",
      "source": [
        " Grid search and random search\n",
        "are typical techniques for finding the optimal values ​​for these values"
      ],
      "metadata": {
        "id": "5PUPMU47oBbj"
      }
    },
    {
      "cell_type": "markdown",
      "source": [
        "### What is grid search?"
      ],
      "metadata": {
        "id": "fDKP51gdoIFD"
      }
    },
    {
      "cell_type": "markdown",
      "source": [
        "Grid search is a method of repeatedly executing learning and prediction using multiple hyperparameter values ​​and finding the most accurate hyperparameter from the obtained prediction results."
      ],
      "metadata": {
        "id": "mQGHDqRsoLM0"
      }
    },
    {
      "cell_type": "markdown",
      "source": [
        "Grid search is often used in conjunction with cross-validation, and this text also explains how to find optimal hyperparameter values ​​using both grid search and cross-validation."
      ],
      "metadata": {
        "id": "ca51kFBNoP11"
      }
    },
    {
      "cell_type": "markdown",
      "source": [
        "## Dataset preperation"
      ],
      "metadata": {
        "id": "I6efuhnnoXiD"
      }
    },
    {
      "cell_type": "code",
      "execution_count": 1,
      "metadata": {
        "id": "9ElD42sVnqd0"
      },
      "outputs": [],
      "source": [
        "from sklearn.datasets import load_iris\n",
        "from sklearn.model_selection import train_test_split\n",
        "iris = load_iris()\n",
        "data, target = iris.data, iris.target\n",
        "data_train, data_test, target_train, target_test = train_test_split(data, target, random_state=123, test_size=0.2)"
      ]
    },
    {
      "cell_type": "markdown",
      "source": [
        "## Cross-Validation using grid search"
      ],
      "metadata": {
        "id": "L3x9UhfaosOl"
      }
    },
    {
      "cell_type": "markdown",
      "source": [
        "This time, we will find the optimal value for the depth of the decision tree that is specified when creating the decision tree model."
      ],
      "metadata": {
        "id": "cZ5trh4Uo6b8"
      }
    },
    {
      "cell_type": "code",
      "source": [
        "from sklearn.tree import DecisionTreeClassifier\n",
        "tree = DecisionTreeClassifier()"
      ],
      "metadata": {
        "id": "-CG4VbJiowWU"
      },
      "execution_count": 2,
      "outputs": []
    },
    {
      "cell_type": "code",
      "source": [
        "from sklearn.model_selection import GridSearchCV"
      ],
      "metadata": {
        "id": "sFCwSd6LpCws"
      },
      "execution_count": 3,
      "outputs": []
    },
    {
      "cell_type": "code",
      "source": [
        "tree_depth = {'max_depth': [2, 3, 4, 5]}\n",
        "clf = GridSearchCV(tree, param_grid=tree_depth, cv=10)\n",
        "clf.fit(data_train, target_train)"
      ],
      "metadata": {
        "colab": {
          "base_uri": "https://localhost:8080/"
        },
        "id": "OALlKMvmpDQc",
        "outputId": "682460be-a002-476a-a716-25d717cc6ef9"
      },
      "execution_count": 4,
      "outputs": [
        {
          "output_type": "execute_result",
          "data": {
            "text/plain": [
              "GridSearchCV(cv=10, estimator=DecisionTreeClassifier(),\n",
              "             param_grid={'max_depth': [2, 3, 4, 5]})"
            ]
          },
          "metadata": {},
          "execution_count": 4
        }
      ]
    },
    {
      "cell_type": "code",
      "source": [
        "from sklearn.tree import DecisionTreeClassifier\n",
        "from sklearn.model_selection import GridSearchCV\n",
        "tree_depth = {'max_depth': [2, 3, 4, 5]}\n",
        "tree = DecisionTreeClassifier()\n",
        "clf = GridSearchCV(tree, param_grid=tree_depth, cv=10)\n",
        "clf.fit(data_train, target_train)"
      ],
      "metadata": {
        "colab": {
          "base_uri": "https://localhost:8080/"
        },
        "id": "BXgEWd79pU2l",
        "outputId": "74d51838-1c02-437b-90dd-34584c21b4d3"
      },
      "execution_count": 5,
      "outputs": [
        {
          "output_type": "execute_result",
          "data": {
            "text/plain": [
              "GridSearchCV(cv=10, estimator=DecisionTreeClassifier(),\n",
              "             param_grid={'max_depth': [2, 3, 4, 5]})"
            ]
          },
          "metadata": {},
          "execution_count": 5
        }
      ]
    },
    {
      "cell_type": "markdown",
      "source": [
        "## Check the optimal value"
      ],
      "metadata": {
        "id": "hnBm5Dmspbot"
      }
    },
    {
      "cell_type": "code",
      "source": [
        "clf.best_params_"
      ],
      "metadata": {
        "colab": {
          "base_uri": "https://localhost:8080/"
        },
        "id": "XDCzBIIspeR7",
        "outputId": "8428050f-d2b7-434d-eeb8-304a41594b46"
      },
      "execution_count": 6,
      "outputs": [
        {
          "output_type": "execute_result",
          "data": {
            "text/plain": [
              "{'max_depth': 4}"
            ]
          },
          "metadata": {},
          "execution_count": 6
        }
      ]
    },
    {
      "cell_type": "code",
      "source": [
        "clf.best_estimator_"
      ],
      "metadata": {
        "colab": {
          "base_uri": "https://localhost:8080/"
        },
        "id": "NPf9v10jpjVr",
        "outputId": "7c8b0fe0-df00-4901-cbf0-db4b1f56c7a6"
      },
      "execution_count": 7,
      "outputs": [
        {
          "output_type": "execute_result",
          "data": {
            "text/plain": [
              "DecisionTreeClassifier(max_depth=4)"
            ]
          },
          "metadata": {},
          "execution_count": 7
        }
      ]
    },
    {
      "cell_type": "code",
      "source": [
        "target_pred = clf.predict(data_test)\n",
        "target_pred"
      ],
      "metadata": {
        "colab": {
          "base_uri": "https://localhost:8080/"
        },
        "id": "NdF80F6Cpry0",
        "outputId": "cea66f54-2bf8-4958-b4a8-a56d8fb3bdd2"
      },
      "execution_count": 8,
      "outputs": [
        {
          "output_type": "execute_result",
          "data": {
            "text/plain": [
              "array([1, 2, 2, 1, 0, 1, 1, 0, 0, 1, 2, 0, 1, 2, 2, 2, 0, 0, 1, 0, 0, 1,\n",
              "       0, 2, 0, 0, 0, 2, 2, 0])"
            ]
          },
          "metadata": {},
          "execution_count": 8
        }
      ]
    },
    {
      "cell_type": "code",
      "source": [
        "target_test"
      ],
      "metadata": {
        "colab": {
          "base_uri": "https://localhost:8080/"
        },
        "id": "q95xBhmips_c",
        "outputId": "e8519350-865b-446d-ad43-6ae8c061ea1b"
      },
      "execution_count": 9,
      "outputs": [
        {
          "output_type": "execute_result",
          "data": {
            "text/plain": [
              "array([1, 2, 2, 1, 0, 2, 1, 0, 0, 1, 2, 0, 1, 2, 2, 2, 0, 0, 1, 0, 0, 2,\n",
              "       0, 2, 0, 0, 0, 2, 2, 0])"
            ]
          },
          "metadata": {},
          "execution_count": 9
        }
      ]
    }
  ]
}