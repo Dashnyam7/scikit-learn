{
  "nbformat": 4,
  "nbformat_minor": 0,
  "metadata": {
    "colab": {
      "provenance": [],
      "collapsed_sections": [],
      "toc_visible": true,
      "authorship_tag": "ABX9TyN+Yvyyin9y9YQoSU34F9xy",
      "include_colab_link": true
    },
    "kernelspec": {
      "name": "python3",
      "display_name": "Python 3"
    },
    "language_info": {
      "name": "python"
    }
  },
  "cells": [
    {
      "cell_type": "markdown",
      "metadata": {
        "id": "view-in-github",
        "colab_type": "text"
      },
      "source": [
        "<a href=\"https://colab.research.google.com/github/Dashnyam7/scikit-learn/blob/main/Principal_componenet_analysis.ipynb\" target=\"_parent\"><img src=\"https://colab.research.google.com/assets/colab-badge.svg\" alt=\"Open In Colab\"/></a>"
      ]
    },
    {
      "cell_type": "markdown",
      "source": [
        "# Principal component analysis"
      ],
      "metadata": {
        "id": "4369_kqBLiR1"
      }
    },
    {
      "cell_type": "markdown",
      "source": [
        "Hemjeesiig buuruulah bolomjtoi"
      ],
      "metadata": {
        "id": "-x09DiPVLrXC"
      }
    },
    {
      "cell_type": "markdown",
      "source": [
        "## What is PCA"
      ],
      "metadata": {
        "id": "bRbpwvA7Ltx9"
      }
    },
    {
      "cell_type": "markdown",
      "source": [
        "If you try to build a model using data with a large number of dimensions, in addition to taking a long time to process, having too many metrics can reduce the accuracy of your predictions."
      ],
      "metadata": {
        "id": "AZ9sYr_5LwIT"
      }
    },
    {
      "cell_type": "markdown",
      "source": [
        "Methods for solving such problems include extracting only meaningful data as feature values, and creating new variables by combining existing feature values"
      ],
      "metadata": {
        "id": "ktLGya6cL2GG"
      }
    },
    {
      "cell_type": "markdown",
      "source": [
        "Reducing the number of features handled like the former is called dimensionality reduction"
      ],
      "metadata": {
        "id": "OPAxC0kKL_ek"
      }
    },
    {
      "cell_type": "markdown",
      "source": [
        "## Data set preperation"
      ],
      "metadata": {
        "id": "2lA32YWXPoQ0"
      }
    },
    {
      "cell_type": "code",
      "execution_count": 1,
      "metadata": {
        "id": "lNXm7u86LTb7"
      },
      "outputs": [],
      "source": [
        "import numpy as np\n",
        "np.random.seed(123)\n",
        "data1 = np.random.random(50)\n",
        "data2 = 2*data1 + 0.3*np.random.random(50)"
      ]
    },
    {
      "cell_type": "code",
      "source": [
        "import matplotlib.pyplot as plt\n",
        "fig, ax = plt.subplots()\n",
        "ax.scatter(data1, data2, marker='x', c='green')\n",
        "plt.show()"
      ],
      "metadata": {
        "colab": {
          "base_uri": "https://localhost:8080/",
          "height": 265
        },
        "id": "b0ok3MiZPu24",
        "outputId": "713c55ff-e96d-41cf-e027-e1a512db4560"
      },
      "execution_count": 9,
      "outputs": [
        {
          "output_type": "display_data",
          "data": {
            "text/plain": [
              "<Figure size 432x288 with 1 Axes>"
            ],
            "image/png": "[encoded data removed]"
          },
          "metadata": {
            "needs_background": "light"
          }
        }
      ]
    },
    {
      "cell_type": "markdown",
      "source": [
        "## Perform data"
      ],
      "metadata": {
        "id": "PJPHJYjmPyOY"
      }
    },
    {
      "cell_type": "markdown",
      "source": [
        "decomposition model"
      ],
      "metadata": {
        "id": "80UyRWPkQnEc"
      }
    },
    {
      "cell_type": "code",
      "source": [
        "from sklearn.decomposition import PCA"
      ],
      "metadata": {
        "id": "WhwB8kssPxap"
      },
      "execution_count": 10,
      "outputs": []
    },
    {
      "cell_type": "markdown",
      "source": [
        "Then PCAcreate an instance of the class.  principal componentsn_components "
      ],
      "metadata": {
        "id": "tKF0IDQgQsq9"
      }
    },
    {
      "cell_type": "code",
      "source": [
        "pca = PCA(n_components=2)"
      ],
      "metadata": {
        "id": "GcB8gRg_QlDZ"
      },
      "execution_count": 11,
      "outputs": []
    },
    {
      "cell_type": "markdown",
      "source": [
        "fit_transform"
      ],
      "metadata": {
        "id": "OsbHZsUuQ6Z_"
      }
    },
    {
      "cell_type": "code",
      "source": [
        "data_pca = pca.fit_transform(np.hstack((data1[:, np.newaxis], data2[:, np.newaxis])))"
      ],
      "metadata": {
        "id": "Xk7IdhrQQ_GE"
      },
      "execution_count": 14,
      "outputs": []
    },
    {
      "cell_type": "markdown",
      "source": [
        "data_pcacontains two-dimensional data consisting of two new variables ( first and second principal components )."
      ],
      "metadata": {
        "id": "XphKkZotQ1QT"
      }
    },
    {
      "cell_type": "code",
      "source": [
        "data_pca"
      ],
      "metadata": {
        "colab": {
          "base_uri": "https://localhost:8080/"
        },
        "id": "gsvhPQAnQx3d",
        "outputId": "664d2a49-38f1-4b67-c319-dbb49892021d"
      },
      "execution_count": 15,
      "outputs": [
        {
          "output_type": "execute_result",
          "data": {
            "text/plain": [
              "array([[ 3.33545268e-01,  4.80346700e-02],\n",
              "       [-3.95439719e-01, -4.00946670e-02],\n",
              "       [-5.87646777e-01, -8.40870569e-03],\n",
              "       [ 1.22355594e-01, -7.01293201e-03],\n",
              "       [ 4.44306979e-01,  1.72348326e-02],\n",
              "       [-2.28674920e-01,  2.84716289e-02],\n",
              "       [ 1.04839246e+00,  1.83912546e-03],\n",
              "       [ 4.57281315e-01, -2.83031768e-02],\n",
              "       [ 5.32315162e-02, -5.07194102e-02],\n",
              "       [-2.42860121e-01,  9.19819003e-04],\n",
              "       [-3.09846124e-01, -1.97961670e-02],\n",
              "       [ 5.30683359e-01, -1.61683069e-02],\n",
              "       [-1.08409236e-01, -1.56491692e-02],\n",
              "       [-9.42310239e-01, -1.48296595e-02],\n",
              "       [-1.40948617e-01, -4.45302190e-02],\n",
              "       [ 4.16398024e-01,  5.23120390e-02],\n",
              "       [-6.43930056e-01, -2.94532239e-02],\n",
              "       [-7.98573310e-01,  4.17078231e-02],\n",
              "       [-1.55494257e-02,  4.12999436e-02],\n",
              "       [ 8.60985773e-02, -1.03616372e-02],\n",
              "       [ 1.88106732e-01,  5.26855757e-02],\n",
              "       [ 8.79825388e-01, -5.94771607e-02],\n",
              "       [ 5.31445418e-01, -2.17180269e-02],\n",
              "       [ 3.03501776e-01, -3.25708765e-02],\n",
              "       [ 3.63710053e-01,  6.17840408e-02],\n",
              "       [-3.75057350e-01, -9.16285932e-03],\n",
              "       [-2.98290757e-01, -4.80217849e-03],\n",
              "       [-7.03114123e-01,  5.22144254e-02],\n",
              "       [-5.58340618e-01,  5.17026292e-02],\n",
              "       [ 3.40666497e-01, -2.91635341e-02],\n",
              "       [-9.64874884e-01,  3.31272246e-02],\n",
              "       [-1.01386577e-01, -2.47106419e-02],\n",
              "       [-1.44484187e-01, -5.86308252e-03],\n",
              "       [-4.82037155e-02,  1.54670941e-02],\n",
              "       [-5.67055467e-02, -5.63957110e-02],\n",
              "       [-3.32937169e-01, -4.27134586e-02],\n",
              "       [-2.07188711e-01,  2.11302861e-02],\n",
              "       [ 7.53276449e-01,  5.45961007e-02],\n",
              "       [ 9.36562043e-01,  1.79058904e-02],\n",
              "       [-2.75101722e-02,  1.40419287e-02],\n",
              "       [ 3.27481511e-01, -3.03100872e-02],\n",
              "       [-7.31574262e-01, -5.97488515e-02],\n",
              "       [-4.51453494e-01,  2.35258751e-02],\n",
              "       [-1.24738546e-01, -3.39699899e-02],\n",
              "       [ 8.39526391e-01, -1.99171463e-02],\n",
              "       [-5.11191809e-01, -2.09892686e-02],\n",
              "       [-1.35543871e-01,  4.81611480e-02],\n",
              "       [ 1.05426832e+00,  4.22091317e-03],\n",
              "       [-3.00731377e-02,  3.51738363e-02],\n",
              "       [ 2.06193802e-01,  1.92832979e-02]])"
            ]
          },
          "metadata": {},
          "execution_count": 15
        }
      ]
    },
    {
      "cell_type": "code",
      "source": [
        "from sklearn.decomposition import PCA\n",
        "pca = PCA(n_components=2)\n",
        "data_pca = pca.fit_transform(np.hstack((data1[:, np.newaxis], data2[:, np.newaxis])))"
      ],
      "metadata": {
        "id": "wEB3NFd4R1RT"
      },
      "execution_count": 16,
      "outputs": []
    },
    {
      "cell_type": "markdown",
      "source": [
        "## Visuilization of analysis results"
      ],
      "metadata": {
        "id": "aURp5iSOR5Mg"
      }
    },
    {
      "cell_type": "code",
      "source": [
        "fig, ax = plt.subplots()\n",
        "ax.scatter(data_pca[:, 0], data_pca[:, 1],c='yellow')\n",
        "ax.set_xlabel('pc1')\n",
        "ax.set_ylabel('pc2')\n",
        "plt.show()"
      ],
      "metadata": {
        "colab": {
          "base_uri": "https://localhost:8080/",
          "height": 279
        },
        "id": "VXAtTRB1R-Gr",
        "outputId": "8415dc66-085d-4484-cd95-7f9358d3a0ce"
      },
      "execution_count": 18,
      "outputs": [
        {
          "output_type": "display_data",
          "data": {
            "text/plain": [
              "<Figure size 432x288 with 1 Axes>"
            ],
            "image/png": "[encoded data removed]"
          },
          "metadata": {
            "needs_background": "light"
          }
        }
      ]
    },
    {
      "cell_type": "code",
      "source": [
        "fig, ax = plt.subplots()\n",
        "ax.scatter(data_pca[:, 0], data_pca[:, 1],marker='x')\n",
        "ax.set_xlabel('pc1')\n",
        "ax.set_ylabel('pc2')\n",
        "ax.set_xlim(-1.1, 1.1)\n",
        "ax.set_ylim(-1.1, 1.1)\n",
        "plt.show()"
      ],
      "metadata": {
        "colab": {
          "base_uri": "https://localhost:8080/",
          "height": 279
        },
        "id": "TFFOr04gSSwG",
        "outputId": "2ceec951-f9d1-4531-ce6a-7ad7e1a90d63"
      },
      "execution_count": 23,
      "outputs": [
        {
          "output_type": "display_data",
          "data": {
            "text/plain": [
              "<Figure size 432x288 with 1 Axes>"
            ],
            "image/png": "[encoded data removed]"
          },
          "metadata": {
            "needs_background": "light"
          }
        }
      ]
    }
  ]
}