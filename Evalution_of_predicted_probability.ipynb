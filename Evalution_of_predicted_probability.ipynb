{
  "nbformat": 4,
  "nbformat_minor": 0,
  "metadata": {
    "colab": {
      "provenance": [],
      "toc_visible": true,
      "authorship_tag": "ABX9TyNNfyUw53QMRL8HJmrD4O3k",
      "include_colab_link": true
    },
    "kernelspec": {
      "name": "python3",
      "display_name": "Python 3"
    },
    "language_info": {
      "name": "python"
    }
  },
  "cells": [
    {
      "cell_type": "markdown",
      "metadata": {
        "id": "view-in-github",
        "colab_type": "text"
      },
      "source": [
        "<a href=\"https://colab.research.google.com/github/Dashnyam7/scikit-learn/blob/main/Evalution_of_predicted_probability.ipynb\" target=\"_parent\"><img src=\"https://colab.research.google.com/assets/colab-badge.svg\" alt=\"Open In Colab\"/></a>"
      ]
    },
    {
      "cell_type": "markdown",
      "source": [
        "# Evalution of predicted probability"
      ],
      "metadata": {
        "id": "ioP6r_cl3a78"
      }
    },
    {
      "cell_type": "markdown",
      "source": [
        "## ROC curve and AUC"
      ],
      "metadata": {
        "id": "x_VHzSdX3lHE"
      }
    },
    {
      "cell_type": "markdown",
      "source": [
        "There is an evaluation method that uses an ROC curve to quantitatively judge the accuracy of the probability of a certain event occurring when the model predicts it"
      ],
      "metadata": {
        "id": "XUZoeyGu3oj5"
      }
    },
    {
      "cell_type": "markdown",
      "source": [
        "By obtaining an index called AUC\n",
        "from this ROC curve , it is possible to quantitatively judge the accuracy of the prediction probability"
      ],
      "metadata": {
        "id": "tnQ1zsFr7iTS"
      }
    },
    {
      "cell_type": "code",
      "execution_count": 1,
      "metadata": {
        "id": "qpx3aO8733ir",
        "colab": {
          "base_uri": "https://localhost:8080/",
          "height": 677
        },
        "outputId": "8157f957-6061-4193-a6c7-e60ce8fd2e17"
      },
      "outputs": [
        {
          "output_type": "execute_result",
          "data": {
            "text/plain": [
              "    Predicted purchase probability  achievement  true positive rate  \\\n",
              "0                             0.99            1            0.083333   \n",
              "1                             0.97            0            0.083333   \n",
              "2                             0.91            1            0.166667   \n",
              "3                             0.88            0            0.166667   \n",
              "4                             0.82            1            0.250000   \n",
              "5                             0.81            0            0.250000   \n",
              "6                             0.79            0            0.250000   \n",
              "7                             0.74            1            0.333333   \n",
              "8                             0.65            1            0.416667   \n",
              "9                             0.60            0            0.416667   \n",
              "10                            0.53            1            0.500000   \n",
              "11                            0.50            1            0.583333   \n",
              "12                            0.41            1            0.666667   \n",
              "13                            0.39            0            0.666667   \n",
              "14                            0.33            1            0.750000   \n",
              "15                            0.30            0            0.750000   \n",
              "16                            0.25            1            0.833333   \n",
              "17                            0.21            1            0.916667   \n",
              "18                            0.18            1            1.000000   \n",
              "19                            0.17            0            1.000000   \n",
              "\n",
              "    false positive rate  \n",
              "0                 0.000  \n",
              "1                 0.125  \n",
              "2                 0.125  \n",
              "3                 0.250  \n",
              "4                 0.250  \n",
              "5                 0.375  \n",
              "6                 0.500  \n",
              "7                 0.500  \n",
              "8                 0.500  \n",
              "9                 0.625  \n",
              "10                0.625  \n",
              "11                0.625  \n",
              "12                0.625  \n",
              "13                0.750  \n",
              "14                0.750  \n",
              "15                0.875  \n",
              "16                0.875  \n",
              "17                0.875  \n",
              "18                0.875  \n",
              "19                1.000  "
            ],
            "text/html": [
              "\n",
              "  <div id=\"df-05da3598-9d69-401b-a59c-55de19c65fd1\">\n",
              "    <div class=\"colab-df-container\">\n",
              "      <div>\n",
              "<style scoped>\n",
              "    .dataframe tbody tr th:only-of-type {\n",
              "        vertical-align: middle;\n",
              "    }\n",
              "\n",
              "    .dataframe tbody tr th {\n",
              "        vertical-align: top;\n",
              "    }\n",
              "\n",
              "    .dataframe thead th {\n",
              "        text-align: right;\n",
              "    }\n",
              "</style>\n",
              "<table border=\"1\" class=\"dataframe\">\n",
              "  <thead>\n",
              "    <tr style=\"text-align: right;\">\n",
              "      <th></th>\n",
              "      <th>Predicted purchase probability</th>\n",
              "      <th>achievement</th>\n",
              "      <th>true positive rate</th>\n",
              "      <th>false positive rate</th>\n",
              "    </tr>\n",
              "  </thead>\n",
              "  <tbody>\n",
              "    <tr>\n",
              "      <th>0</th>\n",
              "      <td>0.99</td>\n",
              "      <td>1</td>\n",
              "      <td>0.083333</td>\n",
              "      <td>0.000</td>\n",
              "    </tr>\n",
              "    <tr>\n",
              "      <th>1</th>\n",
              "      <td>0.97</td>\n",
              "      <td>0</td>\n",
              "      <td>0.083333</td>\n",
              "      <td>0.125</td>\n",
              "    </tr>\n",
              "    <tr>\n",
              "      <th>2</th>\n",
              "      <td>0.91</td>\n",
              "      <td>1</td>\n",
              "      <td>0.166667</td>\n",
              "      <td>0.125</td>\n",
              "    </tr>\n",
              "    <tr>\n",
              "      <th>3</th>\n",
              "      <td>0.88</td>\n",
              "      <td>0</td>\n",
              "      <td>0.166667</td>\n",
              "      <td>0.250</td>\n",
              "    </tr>\n",
              "    <tr>\n",
              "      <th>4</th>\n",
              "      <td>0.82</td>\n",
              "      <td>1</td>\n",
              "      <td>0.250000</td>\n",
              "      <td>0.250</td>\n",
              "    </tr>\n",
              "    <tr>\n",
              "      <th>5</th>\n",
              "      <td>0.81</td>\n",
              "      <td>0</td>\n",
              "      <td>0.250000</td>\n",
              "      <td>0.375</td>\n",
              "    </tr>\n",
              "    <tr>\n",
              "      <th>6</th>\n",
              "      <td>0.79</td>\n",
              "      <td>0</td>\n",
              "      <td>0.250000</td>\n",
              "      <td>0.500</td>\n",
              "    </tr>\n",
              "    <tr>\n",
              "      <th>7</th>\n",
              "      <td>0.74</td>\n",
              "      <td>1</td>\n",
              "      <td>0.333333</td>\n",
              "      <td>0.500</td>\n",
              "    </tr>\n",
              "    <tr>\n",
              "      <th>8</th>\n",
              "      <td>0.65</td>\n",
              "      <td>1</td>\n",
              "      <td>0.416667</td>\n",
              "      <td>0.500</td>\n",
              "    </tr>\n",
              "    <tr>\n",
              "      <th>9</th>\n",
              "      <td>0.60</td>\n",
              "      <td>0</td>\n",
              "      <td>0.416667</td>\n",
              "      <td>0.625</td>\n",
              "    </tr>\n",
              "    <tr>\n",
              "      <th>10</th>\n",
              "      <td>0.53</td>\n",
              "      <td>1</td>\n",
              "      <td>0.500000</td>\n",
              "      <td>0.625</td>\n",
              "    </tr>\n",
              "    <tr>\n",
              "      <th>11</th>\n",
              "      <td>0.50</td>\n",
              "      <td>1</td>\n",
              "      <td>0.583333</td>\n",
              "      <td>0.625</td>\n",
              "    </tr>\n",
              "    <tr>\n",
              "      <th>12</th>\n",
              "      <td>0.41</td>\n",
              "      <td>1</td>\n",
              "      <td>0.666667</td>\n",
              "      <td>0.625</td>\n",
              "    </tr>\n",
              "    <tr>\n",
              "      <th>13</th>\n",
              "      <td>0.39</td>\n",
              "      <td>0</td>\n",
              "      <td>0.666667</td>\n",
              "      <td>0.750</td>\n",
              "    </tr>\n",
              "    <tr>\n",
              "      <th>14</th>\n",
              "      <td>0.33</td>\n",
              "      <td>1</td>\n",
              "      <td>0.750000</td>\n",
              "      <td>0.750</td>\n",
              "    </tr>\n",
              "    <tr>\n",
              "      <th>15</th>\n",
              "      <td>0.30</td>\n",
              "      <td>0</td>\n",
              "      <td>0.750000</td>\n",
              "      <td>0.875</td>\n",
              "    </tr>\n",
              "    <tr>\n",
              "      <th>16</th>\n",
              "      <td>0.25</td>\n",
              "      <td>1</td>\n",
              "      <td>0.833333</td>\n",
              "      <td>0.875</td>\n",
              "    </tr>\n",
              "    <tr>\n",
              "      <th>17</th>\n",
              "      <td>0.21</td>\n",
              "      <td>1</td>\n",
              "      <td>0.916667</td>\n",
              "      <td>0.875</td>\n",
              "    </tr>\n",
              "    <tr>\n",
              "      <th>18</th>\n",
              "      <td>0.18</td>\n",
              "      <td>1</td>\n",
              "      <td>1.000000</td>\n",
              "      <td>0.875</td>\n",
              "    </tr>\n",
              "    <tr>\n",
              "      <th>19</th>\n",
              "      <td>0.17</td>\n",
              "      <td>0</td>\n",
              "      <td>1.000000</td>\n",
              "      <td>1.000</td>\n",
              "    </tr>\n",
              "  </tbody>\n",
              "</table>\n",
              "</div>\n",
              "      <button class=\"colab-df-convert\" onclick=\"convertToInteractive('df-05da3598-9d69-401b-a59c-55de19c65fd1')\"\n",
              "              title=\"Convert this dataframe to an interactive table.\"\n",
              "              style=\"display:none;\">\n",
              "        \n",
              "  <svg xmlns=\"http://www.w3.org/2000/svg\" height=\"24px\"viewBox=\"0 0 24 24\"\n",
              "       width=\"24px\">\n",
              "    <path d=\"M0 0h24v24H0V0z\" fill=\"none\"/>\n",
              "    <path d=\"M18.56 5.44l.94 2.06.94-2.06 2.06-.94-2.06-.94-.94-2.06-.94 2.06-2.06.94zm-11 1L8.5 8.5l.94-2.06 2.06-.94-2.06-.94L8.5 2.5l-.94 2.06-2.06.94zm10 10l.94 2.06.94-2.06 2.06-.94-2.06-.94-.94-2.06-.94 2.06-2.06.94z\"/><path d=\"M17.41 7.96l-1.37-1.37c-.4-.4-.92-.59-1.43-.59-.52 0-1.04.2-1.43.59L10.3 9.45l-7.72 7.72c-.78.78-.78 2.05 0 2.83L4 21.41c.39.39.9.59 1.41.59.51 0 1.02-.2 1.41-.59l7.78-7.78 2.81-2.81c.8-.78.8-2.07 0-2.86zM5.41 20L4 18.59l7.72-7.72 1.47 1.35L5.41 20z\"/>\n",
              "  </svg>\n",
              "      </button>\n",
              "      \n",
              "  <style>\n",
              "    .colab-df-container {\n",
              "      display:flex;\n",
              "      flex-wrap:wrap;\n",
              "      gap: 12px;\n",
              "    }\n",
              "\n",
              "    .colab-df-convert {\n",
              "      background-color: #E8F0FE;\n",
              "      border: none;\n",
              "      border-radius: 50%;\n",
              "      cursor: pointer;\n",
              "      display: none;\n",
              "      fill: #1967D2;\n",
              "      height: 32px;\n",
              "      padding: 0 0 0 0;\n",
              "      width: 32px;\n",
              "    }\n",
              "\n",
              "    .colab-df-convert:hover {\n",
              "      background-color: #E2EBFA;\n",
              "      box-shadow: 0px 1px 2px rgba(60, 64, 67, 0.3), 0px 1px 3px 1px rgba(60, 64, 67, 0.15);\n",
              "      fill: #174EA6;\n",
              "    }\n",
              "\n",
              "    [theme=dark] .colab-df-convert {\n",
              "      background-color: #3B4455;\n",
              "      fill: #D2E3FC;\n",
              "    }\n",
              "\n",
              "    [theme=dark] .colab-df-convert:hover {\n",
              "      background-color: #434B5C;\n",
              "      box-shadow: 0px 1px 3px 1px rgba(0, 0, 0, 0.15);\n",
              "      filter: drop-shadow(0px 1px 2px rgba(0, 0, 0, 0.3));\n",
              "      fill: #FFFFFF;\n",
              "    }\n",
              "  </style>\n",
              "\n",
              "      <script>\n",
              "        const buttonEl =\n",
              "          document.querySelector('#df-05da3598-9d69-401b-a59c-55de19c65fd1 button.colab-df-convert');\n",
              "        buttonEl.style.display =\n",
              "          google.colab.kernel.accessAllowed ? 'block' : 'none';\n",
              "\n",
              "        async function convertToInteractive(key) {\n",
              "          const element = document.querySelector('#df-05da3598-9d69-401b-a59c-55de19c65fd1');\n",
              "          const dataTable =\n",
              "            await google.colab.kernel.invokeFunction('convertToInteractive',\n",
              "                                                     [key], {});\n",
              "          if (!dataTable) return;\n",
              "\n",
              "          const docLinkHtml = 'Like what you see? Visit the ' +\n",
              "            '<a target=\"_blank\" href=https://colab.research.google.com/notebooks/data_table.ipynb>data table notebook</a>'\n",
              "            + ' to learn more about interactive tables.';\n",
              "          element.innerHTML = '';\n",
              "          dataTable['output_type'] = 'display_data';\n",
              "          await google.colab.output.renderOutput(dataTable, element);\n",
              "          const docLink = document.createElement('div');\n",
              "          docLink.innerHTML = docLinkHtml;\n",
              "          element.appendChild(docLink);\n",
              "        }\n",
              "      </script>\n",
              "    </div>\n",
              "  </div>\n",
              "  "
            ]
          },
          "metadata": {},
          "execution_count": 1
        }
      ],
      "source": [
        "import pandas as pd\n",
        "import numpy as np\n",
        "df = pd.DataFrame({\"Predicted purchase probability\": np.array([0.99, 0.97, 0.91, 0.88, 0.82, 0.81, 0.79, 0.74, 0.65, 0.6, 0.53, 0.50, 0.41, 0.39, 0.33, 0.3, 0.25, 0.21, 0.18, 0.17]),\n",
        "                    \"achievement\": np.array([1, 0, 1, 0, 1, 0, 0, 1, 1, 0, 1, 1, 1, 0, 1, 0, 1, 1, 1, 0]),\n",
        "                    \"true positive rate\": np.array([1, 1, 2, 2, 3, 3, 3, 4, 5, 5, 6, 7, 8, 8, 9, 9, 10, 11, 12, 12])/12,\n",
        "                    \"false positive rate\": np.array([0, 1, 1, 2, 2, 3, 4, 4, 4, 5, 5, 5, 5, 6, 6, 7, 7, 7, 7, 8])/8})\n",
        "df"
      ]
    },
    {
      "cell_type": "markdown",
      "source": [
        "\"Achievement\" 1means \"purchased the product 0\" and \"Did not purchase the product\", the result is that 12 people purchased and 8 people did not purchase."
      ],
      "metadata": {
        "id": "KNUzWAKE8PsC"
      }
    },
    {
      "cell_type": "markdown",
      "source": [
        "In drawing the ROC curve, the true positive rate and false positive rate are important values.\n",
        "Expressing the true positive rate and the false positive rate as fractions is as follows"
      ],
      "metadata": {
        "id": "YLMBk0X08QOL"
      }
    },
    {
      "cell_type": "markdown",
      "source": [
        "## Plot ROC curve"
      ],
      "metadata": {
        "id": "N9DW-u0n8ZeN"
      }
    },
    {
      "cell_type": "markdown",
      "source": [
        "Now let's actually plot the ROC curve using our dataset.\n",
        "First, assign the true positive rate and false positive rate data to variables. Also, add to the beginning of each data so that"
      ],
      "metadata": {
        "id": "vf7_J3C_8SDd"
      }
    },
    {
      "cell_type": "code",
      "source": [
        "tp_data = df.loc[:, \"true positive rate\"].values\n",
        "fp_data = df.loc[:, \"false positive rate\"].values\n",
        "fp_data = np.append(0, fp_data)\n",
        "tp_data = np.append(0, tp_data)\n",
        "print(tp_data)\n",
        "print(fp_data)"
      ],
      "metadata": {
        "colab": {
          "base_uri": "https://localhost:8080/"
        },
        "id": "uCCpvtsy8eMP",
        "outputId": "8d0a008b-5328-4fad-f970-788a7f2f03b5"
      },
      "execution_count": 7,
      "outputs": [
        {
          "output_type": "stream",
          "name": "stdout",
          "text": [
            "[0.         0.08333333 0.08333333 0.16666667 0.16666667 0.25\n",
            " 0.25       0.25       0.33333333 0.41666667 0.41666667 0.5\n",
            " 0.58333333 0.66666667 0.66666667 0.75       0.75       0.83333333\n",
            " 0.91666667 1.         1.        ]\n",
            "[0.    0.    0.125 0.125 0.25  0.25  0.375 0.5   0.5   0.5   0.625 0.625\n",
            " 0.625 0.625 0.75  0.75  0.875 0.875 0.875 0.875 1.   ]\n"
          ]
        }
      ]
    },
    {
      "cell_type": "code",
      "source": [
        "import matplotlib.pyplot as plt\n",
        "fig, ax = plt.subplots()\n",
        "ax.step(fp_data, tp_data)\n",
        "ax.set_xlabel('fp rate')\n",
        "ax.set_ylabel('tp rate')\n",
        "plt.show()"
      ],
      "metadata": {
        "colab": {
          "base_uri": "https://localhost:8080/",
          "height": 279
        },
        "id": "AjHaV68o8iHJ",
        "outputId": "dbfa3dc1-e93c-4d82-a37c-cf02a61ebc4a"
      },
      "execution_count": 8,
      "outputs": [
        {
          "output_type": "display_data",
          "data": {
            "text/plain": [
              "<Figure size 432x288 with 1 Axes>"
            ],
            "image/png": "[encoded data removed]"
          },
          "metadata": {
            "needs_background": "light"
          }
        }
      ]
    },
    {
      "cell_type": "markdown",
      "source": [
        "## Find AUC"
      ],
      "metadata": {
        "id": "6Tid7e3D84Kl"
      }
    },
    {
      "cell_type": "markdown",
      "source": [
        "Now let's find the AUC from the ROC curve we plotted earlier."
      ],
      "metadata": {
        "id": "zePILsbO9Bag"
      }
    },
    {
      "cell_type": "markdown",
      "source": [
        "$AUC = \\frac{1}{12}\\times\\frac{1}{8}+\\frac{2}{12}\\times\\frac{1}{8}+\\frac{3}{12}\\times\\frac{2}{8}+\\frac{5}{12}\\times\\frac{1}{8}+\\frac{8}{12}\\times\\frac{1}{8}+\\frac{9}{12}\\times\\frac{1}{8}+\\frac{12}{12}\\times\\frac{1}{8}=0.4479166666666667$"
      ],
      "metadata": {
        "id": "f98dDj2H88BL"
      }
    },
    {
      "cell_type": "markdown",
      "source": [
        "##  Using functions"
      ],
      "metadata": {
        "id": "zcPFAHeh8_Pa"
      }
    },
    {
      "cell_type": "code",
      "source": [
        "from sklearn.metrics import roc_curve\n",
        "target_data = df.loc[:, \"achievement\"].values\n",
        "pred_rate = df.loc[:, \"Predicted purchase probability\"].values\n",
        "fp_rate, tp_rate, threshold = roc_curve(target_data, pred_rate)\n",
        "print('true positive rate： ', tp_rate)\n",
        "print('false positive rate： ', fp_rate)"
      ],
      "metadata": {
        "colab": {
          "base_uri": "https://localhost:8080/"
        },
        "id": "fKbY3Ein9A23",
        "outputId": "a5c5aab2-aac9-455c-8fd3-c8fb0964d7f2"
      },
      "execution_count": 9,
      "outputs": [
        {
          "output_type": "stream",
          "name": "stdout",
          "text": [
            "true positive rate：  [0.         0.08333333 0.08333333 0.16666667 0.16666667 0.25\n",
            " 0.25       0.41666667 0.41666667 0.66666667 0.66666667 0.75\n",
            " 0.75       1.         1.        ]\n",
            "false positive rate：  [0.    0.    0.125 0.125 0.25  0.25  0.5   0.5   0.625 0.625 0.75  0.75\n",
            " 0.875 0.875 1.   ]\n"
          ]
        }
      ]
    },
    {
      "cell_type": "code",
      "source": [
        "fig, ax = plt.subplots()\n",
        "ax.step(fp_rate, tp_rate)\n",
        "ax.set_xlabel('fp rate')\n",
        "ax.set_ylabel('tp rate')\n",
        "plt.show()"
      ],
      "metadata": {
        "colab": {
          "base_uri": "https://localhost:8080/",
          "height": 279
        },
        "id": "73c0pVMx85wf",
        "outputId": "f7953d6b-4fd4-491a-ae76-d41b21cbae02"
      },
      "execution_count": 10,
      "outputs": [
        {
          "output_type": "display_data",
          "data": {
            "text/plain": [
              "<Figure size 432x288 with 1 Axes>"
            ],
            "image/png": "[encoded data removed]"
          },
          "metadata": {
            "needs_background": "light"
          }
        }
      ]
    },
    {
      "cell_type": "code",
      "source": [
        "from sklearn.metrics import roc_auc_score\n",
        "roc_auc_score(target_data, pred_rate)"
      ],
      "metadata": {
        "colab": {
          "base_uri": "https://localhost:8080/"
        },
        "id": "saGKs_IL9VOb",
        "outputId": "578bed62-a507-4299-b15f-18493a510706"
      },
      "execution_count": 11,
      "outputs": [
        {
          "output_type": "execute_result",
          "data": {
            "text/plain": [
              "0.4479166666666667"
            ]
          },
          "metadata": {},
          "execution_count": 11
        }
      ]
    }
  ]
}