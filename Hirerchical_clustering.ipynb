{
  "nbformat": 4,
  "nbformat_minor": 0,
  "metadata": {
    "colab": {
      "provenance": [],
      "authorship_tag": "ABX9TyO5Gk6xDhw9syefhMvcUaxw",
      "include_colab_link": true
    },
    "kernelspec": {
      "name": "python3",
      "display_name": "Python 3"
    },
    "language_info": {
      "name": "python"
    }
  },
  "cells": [
    {
      "cell_type": "markdown",
      "metadata": {
        "id": "view-in-github",
        "colab_type": "text"
      },
      "source": [
        "<a href=\"https://colab.research.google.com/github/Dashnyam7/scikit-learn/blob/main/Hirerchical_clustering.ipynb\" target=\"_parent\"><img src=\"https://colab.research.google.com/assets/colab-badge.svg\" alt=\"Open In Colab\"/></a>"
      ]
    },
    {
      "cell_type": "markdown",
      "source": [
        "# Clustering by hirerchical clustering?"
      ],
      "metadata": {
        "id": "UrGK49vInEDL"
      }
    },
    {
      "cell_type": "markdown",
      "source": [
        "## What is hirerchical clustering?"
      ],
      "metadata": {
        "id": "G1aVFwFZnSyH"
      }
    },
    {
      "cell_type": "markdown",
      "source": [
        "Hierarchical clustering can be broadly divided into two types: **agglomerative** and **split** ."
      ],
      "metadata": {
        "id": "I3-afeF4nKlo"
      }
    },
    {
      "cell_type": "markdown",
      "source": [
        "The agglomerative type repeats the process of grouping similar data together, and finally groups the data into a single cluster."
      ],
      "metadata": {
        "id": "zND6ltLyneCM"
      }
    },
    {
      "cell_type": "markdown",
      "source": [
        "On the other hand, in the split type, in contrast to the agglomeration type, all the data is first considered to be in one cluster, and then the process of gradually splitting the cluster is repeatedly executed"
      ],
      "metadata": {
        "id": "jz_uU1tInkMj"
      }
    },
    {
      "cell_type": "markdown",
      "source": [
        "## Data set preperation"
      ],
      "metadata": {
        "id": "5kbfT9UInnrh"
      }
    },
    {
      "cell_type": "code",
      "execution_count": 2,
      "metadata": {
        "id": "1XGqX6bngkfK"
      },
      "outputs": [],
      "source": [
        "from sklearn.datasets import load_iris\n",
        "from sklearn.model_selection import train_test_split\n",
        "iris = load_iris()\n",
        "data = iris.data[:, [1,3]]"
      ]
    },
    {
      "cell_type": "markdown",
      "source": [
        "## Learning"
      ],
      "metadata": {
        "id": "rlDhCXUAn-uX"
      }
    },
    {
      "cell_type": "markdown",
      "source": [
        "AgglomerativeClustering"
      ],
      "metadata": {
        "id": "oBeNpnTaoIHI"
      }
    },
    {
      "cell_type": "code",
      "source": [
        "from sklearn.cluster import AgglomerativeClustering"
      ],
      "metadata": {
        "id": "zlUm7EXFoBra"
      },
      "execution_count": 3,
      "outputs": []
    },
    {
      "cell_type": "code",
      "source": [
        "ac = AgglomerativeClustering(n_clusters=3, affinity='euclidean', linkage='complete')"
      ],
      "metadata": {
        "id": "6lwo2iKGoOWD"
      },
      "execution_count": 4,
      "outputs": []
    },
    {
      "cell_type": "markdown",
      "source": [
        "n_clusters-specifies the number of clusters to agglomerate"
      ],
      "metadata": {
        "id": "UbPuuHl4oULk"
      }
    },
    {
      "cell_type": "markdown",
      "source": [
        "affinity-specifies how to calculate the distance between each data. Default=euclidean"
      ],
      "metadata": {
        "id": "vYh-W6qZoZAe"
      }
    },
    {
      "cell_type": "markdown",
      "source": [
        "linkage-specifies how to calculate the distance between clusters"
      ],
      "metadata": {
        "id": "zHIWbVPRo4OV"
      }
    },
    {
      "cell_type": "code",
      "source": [
        "ac.fit_predict(data)"
      ],
      "metadata": {
        "colab": {
          "base_uri": "https://localhost:8080/"
        },
        "id": "XDW3pNYLowT1",
        "outputId": "0efa64ed-e251-4e94-db3c-24f7ac06f760"
      },
      "execution_count": 5,
      "outputs": [
        {
          "output_type": "execute_result",
          "data": {
            "text/plain": [
              "array([2, 0, 0, 0, 2, 2, 2, 2, 0, 0, 2, 2, 0, 0, 2, 2, 2, 2, 2, 2, 2, 2,\n",
              "       2, 2, 2, 0, 2, 2, 2, 0, 0, 2, 2, 2, 0, 0, 2, 2, 0, 2, 2, 0, 0, 2,\n",
              "       2, 0, 2, 0, 2, 0, 0, 0, 0, 0, 0, 0, 0, 0, 0, 0, 0, 0, 0, 0, 0, 0,\n",
              "       0, 0, 0, 0, 0, 0, 0, 0, 0, 0, 0, 0, 0, 0, 0, 0, 0, 0, 0, 0, 0, 0,\n",
              "       0, 0, 0, 0, 0, 0, 0, 0, 0, 0, 0, 0, 1, 1, 1, 0, 1, 1, 0, 0, 1, 1,\n",
              "       1, 1, 1, 1, 1, 1, 0, 1, 1, 0, 1, 1, 1, 1, 1, 0, 1, 0, 1, 0, 1, 1,\n",
              "       1, 0, 0, 1, 1, 0, 0, 1, 1, 1, 1, 1, 1, 1, 1, 1, 1, 0])"
            ]
          },
          "metadata": {},
          "execution_count": 5
        }
      ]
    },
    {
      "cell_type": "code",
      "source": [
        "from sklearn.cluster import AgglomerativeClustering\n",
        "ac = AgglomerativeClustering(n_clusters=3, affinity='euclidean', linkage='complete')\n",
        "ac.fit_predict(data)"
      ],
      "metadata": {
        "colab": {
          "base_uri": "https://localhost:8080/"
        },
        "id": "dUfAAJHcpCyD",
        "outputId": "d27f58ec-58e4-4631-a5e0-cdd9f0d05942"
      },
      "execution_count": 6,
      "outputs": [
        {
          "output_type": "execute_result",
          "data": {
            "text/plain": [
              "array([2, 0, 0, 0, 2, 2, 2, 2, 0, 0, 2, 2, 0, 0, 2, 2, 2, 2, 2, 2, 2, 2,\n",
              "       2, 2, 2, 0, 2, 2, 2, 0, 0, 2, 2, 2, 0, 0, 2, 2, 0, 2, 2, 0, 0, 2,\n",
              "       2, 0, 2, 0, 2, 0, 0, 0, 0, 0, 0, 0, 0, 0, 0, 0, 0, 0, 0, 0, 0, 0,\n",
              "       0, 0, 0, 0, 0, 0, 0, 0, 0, 0, 0, 0, 0, 0, 0, 0, 0, 0, 0, 0, 0, 0,\n",
              "       0, 0, 0, 0, 0, 0, 0, 0, 0, 0, 0, 0, 1, 1, 1, 0, 1, 1, 0, 0, 1, 1,\n",
              "       1, 1, 1, 1, 1, 1, 0, 1, 1, 0, 1, 1, 1, 1, 1, 0, 1, 0, 1, 0, 1, 1,\n",
              "       1, 0, 0, 1, 1, 0, 0, 1, 1, 1, 1, 1, 1, 1, 1, 1, 1, 0])"
            ]
          },
          "metadata": {},
          "execution_count": 6
        }
      ]
    },
    {
      "cell_type": "markdown",
      "source": [
        "## Visualization of learning results"
      ],
      "metadata": {
        "id": "UeCxJLVspEVP"
      }
    },
    {
      "cell_type": "markdown",
      "source": [
        "Hierarchical clustering results can be visualized using a dendrogram"
      ],
      "metadata": {
        "id": "F1GwUdWhptvJ"
      }
    },
    {
      "cell_type": "code",
      "source": [
        "import numpy as np\n",
        "import matplotlib.pyplot as plt\n",
        "from scipy.cluster.hierarchy import dendrogram"
      ],
      "metadata": {
        "id": "DtYlpnR1pH-i"
      },
      "execution_count": 7,
      "outputs": []
    },
    {
      "cell_type": "code",
      "source": [
        "children = ac.children_ # 1\n",
        "distance = np.arange(children.shape[0]) # 2\n",
        "no_of_observations = np.arange(2, children.shape[0]+2)  # 3"
      ],
      "metadata": {
        "id": "xy20YcdqpNea"
      },
      "execution_count": 9,
      "outputs": []
    },
    {
      "cell_type": "markdown",
      "source": [
        "1.Extract each element's relationship to child clusters"
      ],
      "metadata": {
        "id": "7_DW5aqSpgCO"
      }
    },
    {
      "cell_type": "markdown",
      "source": [
        "2.Extract distance between clusters"
      ],
      "metadata": {
        "id": "mmVdtRf5pijV"
      }
    },
    {
      "cell_type": "markdown",
      "source": [
        "3.the number where the data was observed"
      ],
      "metadata": {
        "id": "GU4JBg7cpkcm"
      }
    },
    {
      "cell_type": "code",
      "source": [
        "linkage_matrix = np.hstack((children, distance[:, np.newaxis], no_of_observations[:, np.newaxis])).astype(float)"
      ],
      "metadata": {
        "id": "nf5ujDlKpmi6"
      },
      "execution_count": 10,
      "outputs": []
    },
    {
      "cell_type": "code",
      "source": [
        "linkage_matrix"
      ],
      "metadata": {
        "colab": {
          "base_uri": "https://localhost:8080/"
        },
        "id": "s2ms9rkEpynH",
        "outputId": "c610f979-c9ad-4536-96d7-334b42c2e16a"
      },
      "execution_count": 11,
      "outputs": [
        {
          "output_type": "execute_result",
          "data": {
            "text/plain": [
              "array([[  0.,  27.,   0.,   2.],\n",
              "       [  1.,  25.,   1.,   3.],\n",
              "       [  2.,  29.,   2.,   4.],\n",
              "       [  3.,  30.,   3.,   5.],\n",
              "       [  4.,  22.,   4.,   6.],\n",
              "       [  5.,  16.,   5.,   7.],\n",
              "       [  7.,  11.,   6.,   8.],\n",
              "       [ 20., 156.,   7.,   9.],\n",
              "       [ 24., 157.,   8.,  10.],\n",
              "       [ 28., 158.,   9.,  11.],\n",
              "       [ 39., 159.,  10.,  12.],\n",
              "       [ 38., 151.,  11.,  13.],\n",
              "       [ 34., 153.,  12.,  14.],\n",
              "       [ 10.,  48.,  13.,  15.],\n",
              "       [ 12.,  13.,  14.,  16.],\n",
              "       [ 18.,  19.,  15.,  17.],\n",
              "       [ 17.,  40.,  16.,  18.],\n",
              "       [ 26.,  31.,  17.,  19.],\n",
              "       [ 36., 150.,  18.,  20.],\n",
              "       [ 35., 152.,  19.,  21.],\n",
              "       [ 42., 169.,  20.,  22.],\n",
              "       [ 47., 170.,  21.,  23.],\n",
              "       [ 57.,  81.,  22.,  24.],\n",
              "       [ 69.,  98.,  23.,  25.],\n",
              "       [ 90.,  92.,  24.,  26.],\n",
              "       [ 53.,  87.,  25.,  27.],\n",
              "       [ 68., 119.,  26.,  28.],\n",
              "       [ 55.,  71.,  27.,  29.],\n",
              "       [ 99., 177.,  28.,  30.],\n",
              "       [ 58.,  64.,  29.,  31.],\n",
              "       [ 74., 179.,  30.,  32.],\n",
              "       [ 96., 180.,  31.,  33.],\n",
              "       [ 97., 181.,  32.,  34.],\n",
              "       [ 75.,  91.,  33.,  35.],\n",
              "       [ 54., 133.,  34.,  36.],\n",
              "       [101., 111.,  35.,  37.],\n",
              "       [142., 185.,  36.,  38.],\n",
              "       [ 61.,  66.,  37.,  39.],\n",
              "       [ 84., 187.,  38.,  40.],\n",
              "       [ 52.,  86.,  39.,  41.],\n",
              "       [116., 127.,  40.,  42.],\n",
              "       [138., 190.,  41.,  43.],\n",
              "       [149., 191.,  42.,  44.],\n",
              "       [103., 107.,  43.,  45.],\n",
              "       [ 70., 125.,  44.,  46.],\n",
              "       [102., 105.,  45.,  47.],\n",
              "       [112., 195.,  46.,  48.],\n",
              "       [121., 122.,  47.,  49.],\n",
              "       [135., 145.,  48.,  50.],\n",
              "       [115., 120.,  49.,  51.],\n",
              "       [143., 199.,  50.,  52.],\n",
              "       [100., 144.,  51.,  53.],\n",
              "       [ 21.,  44.,  52.,  54.],\n",
              "       [ 46., 163.,  53.,  55.],\n",
              "       [ 49., 171.,  54.,  56.],\n",
              "       [ 62.,  93.,  55.,  57.],\n",
              "       [ 73.,  82.,  56.,  58.],\n",
              "       [ 59.,  76.,  57.,  59.],\n",
              "       [ 94., 178.,  58.,  60.],\n",
              "       [123., 126.,  59.,  61.],\n",
              "       [130., 186.,  60.,  62.],\n",
              "       [104., 198.,  61.,  63.],\n",
              "       [108., 146.,  62.,  64.],\n",
              "       [ 63., 182.,  63.,  65.],\n",
              "       [ 88., 183.,  64.,  66.],\n",
              "       [ 77., 129.,  65.,  67.],\n",
              "       [  6., 160.,  66.,  68.],\n",
              "       [ 45., 161.,  67.,  69.],\n",
              "       [166., 168.,  68.,  70.],\n",
              "       [  9., 162.,  69.,  71.],\n",
              "       [ 37., 154.,  70.,  72.],\n",
              "       [ 67.,  79.,  71.,  73.],\n",
              "       [ 80., 172.,  72.,  74.],\n",
              "       [ 78., 184.,  73.,  75.],\n",
              "       [188., 189.,  74.,  76.],\n",
              "       [192., 193.,  75.,  77.],\n",
              "       [ 50.,  65.,  76.,  78.],\n",
              "       [ 56.,  85.,  77.,  79.],\n",
              "       [137., 194.,  78.,  80.],\n",
              "       [147., 196.,  79.,  81.],\n",
              "       [128., 197.,  80.,  82.],\n",
              "       [141., 200.,  81.,  83.],\n",
              "       [136., 148.,  82.,  84.],\n",
              "       [207., 208.,  83.,  85.],\n",
              "       [209., 210.,  84.,  86.],\n",
              "       [165., 203.,  85.,  87.],\n",
              "       [ 14.,  32.,  86.,  88.],\n",
              "       [110., 124.,  87.,  89.],\n",
              "       [173., 174.,  88.,  90.],\n",
              "       [ 89., 134.,  89.,  91.],\n",
              "       [213., 214.,  90.,  92.],\n",
              "       [  8., 217.,  91.,  93.],\n",
              "       [ 23., 167.,  92.,  94.],\n",
              "       [216., 218.,  93.,  95.],\n",
              "       [164., 219.,  94.,  96.],\n",
              "       [ 51., 226.,  95.,  97.],\n",
              "       [139., 229.,  96.,  98.],\n",
              "       [140., 231.,  97.,  99.],\n",
              "       [155., 202.,  98., 100.],\n",
              "       [114., 132.,  99., 101.],\n",
              "       [ 72., 106., 100., 102.],\n",
              "       [113., 212., 101., 103.],\n",
              "       [ 33., 236., 102., 104.],\n",
              "       [117., 131., 103., 105.],\n",
              "       [205., 222., 104., 106.],\n",
              "       [175., 176., 105., 107.],\n",
              "       [206., 233., 106., 108.],\n",
              "       [ 83., 223., 107., 109.],\n",
              "       [118., 249., 108., 110.],\n",
              "       [215., 224., 109., 111.],\n",
              "       [ 95., 240., 110., 112.],\n",
              "       [211., 247., 111., 113.],\n",
              "       [ 43., 242., 112., 114.],\n",
              "       [241., 244., 113., 115.],\n",
              "       [221., 238., 114., 116.],\n",
              "       [201., 232., 115., 117.],\n",
              "       [235., 248., 116., 118.],\n",
              "       [220., 243., 117., 119.],\n",
              "       [225., 228., 118., 120.],\n",
              "       [109., 265., 119., 121.],\n",
              "       [239., 256., 120., 122.],\n",
              "       [230., 234., 121., 123.],\n",
              "       [237., 246., 122., 124.],\n",
              "       [227., 245., 123., 125.],\n",
              "       [259., 268., 124., 126.],\n",
              "       [204., 263., 125., 127.],\n",
              "       [ 60., 254., 126., 128.],\n",
              "       [261., 272., 127., 129.],\n",
              "       [251., 271., 128., 130.],\n",
              "       [264., 270., 129., 131.],\n",
              "       [250., 257., 130., 132.],\n",
              "       [ 15., 252., 131., 133.],\n",
              "       [262., 267., 132., 134.],\n",
              "       [273., 274., 133., 135.],\n",
              "       [255., 276., 134., 136.],\n",
              "       [260., 279., 135., 137.],\n",
              "       [266., 282., 136., 138.],\n",
              "       [258., 278., 137., 139.],\n",
              "       [253., 269., 138., 140.],\n",
              "       [280., 285., 139., 141.],\n",
              "       [277., 288., 140., 142.],\n",
              "       [ 41., 275., 141., 143.],\n",
              "       [283., 289., 142., 144.],\n",
              "       [281., 286., 143., 145.],\n",
              "       [287., 290., 144., 146.],\n",
              "       [284., 292., 145., 147.],\n",
              "       [291., 295., 146., 148.],\n",
              "       [293., 296., 147., 149.],\n",
              "       [294., 297., 148., 150.]])"
            ]
          },
          "metadata": {},
          "execution_count": 11
        }
      ]
    },
    {
      "cell_type": "code",
      "source": [
        "fig, ax = plt.subplots(figsize=(20, 10), dpi=100)\n",
        "dendrogram(linkage_matrix, leaf_font_size=8)\n",
        "plt.show()"
      ],
      "metadata": {
        "colab": {
          "base_uri": "https://localhost:8080/",
          "height": 641
        },
        "id": "2beMkVrip2t9",
        "outputId": "fda608e6-723c-469e-e6a9-4a7028dc4917"
      },
      "execution_count": 12,
      "outputs": [
        {
          "output_type": "display_data",
          "data": {
            "text/plain": [
              "<Figure size 2000x1000 with 1 Axes>"
            ],
            "image/png": "[encoded data removed]"
          },
          "metadata": {
            "needs_background": "light"
          }
        }
      ]
    },
    {
      "cell_type": "code",
      "source": [
        "import numpy as np\n",
        "import matplotlib.pyplot as plt\n",
        "from scipy.cluster.hierarchy import dendrogram\n",
        "children = ac.children_\n",
        "distance = np.arange(children.shape[0])\n",
        "no_of_observations = np.arange(2, children.shape[0]+2)\n",
        "linkage_matrix = np.hstack((children, distance[:, np.newaxis], no_of_observations[:, np.newaxis])).astype(float)\n",
        "fig, ax = plt.subplots(figsize=(20, 10), dpi=100)\n",
        "dendrogram(linkage_matrix, leaf_font_size=8)\n",
        "plt.show()"
      ],
      "metadata": {
        "colab": {
          "base_uri": "https://localhost:8080/",
          "height": 641
        },
        "id": "6_gX8g2op6qR",
        "outputId": "dd35ba67-d4e6-4dca-bf5b-05e8fe59ce80"
      },
      "execution_count": 13,
      "outputs": [
        {
          "output_type": "display_data",
          "data": {
            "text/plain": [
              "<Figure size 2000x1000 with 1 Axes>"
            ],
            "image/png": "[encoded data removed]"
          },
          "metadata": {
            "needs_background": "light"
          }
        }
      ]
    }
  ]
}